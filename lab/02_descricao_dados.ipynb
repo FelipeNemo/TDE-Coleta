{
 "cells": [
  {
   "cell_type": "markdown",
   "id": "ed4504a8-8522-43e4-aa8d-bf74472a1d53",
   "metadata": {},
   "source": [
    "# 📘 descricao_dados\n",
    "### **Objetivo:**\n",
    "- Descrever campos, tipos, exemplos e significado dos dados coletados.\n"
   ]
  }
 ],
 "metadata": {
  "kernelspec": {
   "display_name": "tde",
   "language": "python",
   "name": "python3"
  },
  "language_info": {
   "codemirror_mode": {
    "name": "ipython",
    "version": 3
   },
   "file_extension": ".py",
   "mimetype": "text/x-python",
   "name": "python",
   "nbconvert_exporter": "python",
   "pygments_lexer": "ipython3",
   "version": "3.10.19"
  }
 },
 "nbformat": 4,
 "nbformat_minor": 5
}
