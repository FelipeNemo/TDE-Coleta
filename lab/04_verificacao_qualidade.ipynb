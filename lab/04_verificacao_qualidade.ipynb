{
 "cells": [
  {
   "cell_type": "markdown",
   "id": "9f6a966d-6cb4-4d64-96ba-84a212fdfc23",
   "metadata": {},
   "source": [
    "# 📘 verificacao_qualidade\n",
    "### **Objetivo:**\n",
    "- Avaliar integridade, completude e consistência dos dados"
   ]
  }
 ],
 "metadata": {
  "kernelspec": {
   "display_name": "Python 3 (ipykernel)",
   "language": "python",
   "name": "python3"
  },
  "language_info": {
   "codemirror_mode": {
    "name": "ipython",
    "version": 3
   },
   "file_extension": ".py",
   "mimetype": "text/x-python",
   "name": "python",
   "nbconvert_exporter": "python",
   "pygments_lexer": "ipython3",
   "version": "3.11.7"
  }
 },
 "nbformat": 4,
 "nbformat_minor": 5
}
