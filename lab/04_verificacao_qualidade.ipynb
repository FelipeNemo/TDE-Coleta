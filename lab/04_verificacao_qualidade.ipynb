{
 "cells": [
  {
   "cell_type": "markdown",
   "id": "9f6a966d-6cb4-4d64-96ba-84a212fdfc23",
   "metadata": {},
   "source": [
    "# 📘 verificacao_qualidade\n",
    "### **Objetivo:**\n",
    "- Avaliar integridade, completude e consistência dos dados"
   ]
  },
  {
   "cell_type": "code",
   "execution_count": 4,
   "id": "05cab019-03f9-4ab4-be0b-72ebdb2d7825",
   "metadata": {},
   "outputs": [
    {
     "name": "stdout",
     "output_type": "stream",
     "text": [
      "🔍 Campos com valores ausentes — Deputados:\n",
      "Series([], dtype: int64)\n",
      "\n",
      "🔍 Campos com valores ausentes — Eventos:\n",
      "dataHoraFim     1066\n",
      "localExterno    9119\n",
      "urlRegistro     1201\n",
      "dtype: int64\n"
     ]
    }
   ],
   "source": [
    "import pandas as pd\n",
    "from datetime import datetime\n",
    "\n",
    "df_dep = pd.read_json(\"../data/processed/deputados.json\")\n",
    "df_evt = pd.read_json(\"../data/processed/eventos.json\")\n",
    "\n",
    "# Verificar valores ausentes \n",
    "missing_dep = df_dep.isna().sum()\n",
    "missing_evt = df_evt.isna().sum()\n",
    "\n",
    "print(\"🔍 Campos com valores ausentes — Deputados:\")\n",
    "print(missing_dep[missing_dep > 0])\n",
    "print(\"\\n🔍 Campos com valores ausentes — Eventos:\")\n",
    "print(missing_evt[missing_evt > 0])"
   ]
  },
  {
   "cell_type": "code",
   "execution_count": 5,
   "id": "60eaef77-3170-445a-8b3e-f44df0459aa6",
   "metadata": {},
   "outputs": [
    {
     "name": "stdout",
     "output_type": "stream",
     "text": [
      "\n",
      "🔁 Deputados duplicados: 0\n"
     ]
    }
   ],
   "source": [
    "# IDs duplicados\n",
    "duplicados_dep = df_dep[df_dep.duplicated(\"id\")]\n",
    "print(f\"\\n🔁 Deputados duplicados: {len(duplicados_dep)}\")"
   ]
  },
  {
   "cell_type": "code",
   "execution_count": 6,
   "id": "9ac84a4b-ca23-4835-85e5-7a81a65a117c",
   "metadata": {},
   "outputs": [
    {
     "name": "stdout",
     "output_type": "stream",
     "text": [
      "\n",
      "⏳ Eventos com datas futuras: 0\n"
     ]
    }
   ],
   "source": [
    "# Datas inválidas (futuras ou não convertíveis)\n",
    "df_evt[\"dataHoraInicio\"] = pd.to_datetime(df_evt[\"dataHoraInicio\"], errors=\"coerce\")\n",
    "invalidos = df_evt[df_evt[\"dataHoraInicio\"] > pd.Timestamp.now()]\n",
    "print(f\"\\n⏳ Eventos com datas futuras: {len(invalidos)}\")"
   ]
  },
  {
   "cell_type": "code",
   "execution_count": 10,
   "id": "ae3e0b45-b0f3-479a-8713-3d0744d0815f",
   "metadata": {},
   "outputs": [
    {
     "name": "stdout",
     "output_type": "stream",
     "text": [
      "\n",
      "✅ Relatório salvo em: data/quality/relatorio_qualidade.json\n"
     ]
    },
    {
     "data": {
      "text/plain": [
       "{'Campos nulos (deputados)': 0,\n",
       " 'Campos nulos (eventos)': 11386,\n",
       " 'Deputados duplicados': 0,\n",
       " 'Eventos com data futura': 0,\n",
       " 'Data de geração': '2025-10-25 23:53:17'}"
      ]
     },
     "execution_count": 10,
     "metadata": {},
     "output_type": "execute_result"
    }
   ],
   "source": [
    "# Montar resumo da qualidade \n",
    "qualidade = {\n",
    "    \"Campos nulos (deputados)\": int(missing_dep.sum()),\n",
    "    \"Campos nulos (eventos)\": int(missing_evt.sum()),\n",
    "    \"Deputados duplicados\": int(len(duplicados_dep)),\n",
    "    \"Eventos com data futura\": int(len(invalidos)),\n",
    "    \"Data de geração\": datetime.now().strftime(\"%Y-%m-%d %H:%M:%S\")\n",
    "}\n",
    "\n",
    "# Salvar relatório de qualidade como JSON \n",
    "pd.DataFrame([qualidade]).to_json(\n",
    "    \"../data/quality/relatorio_qualidade.json\",\n",
    "    orient=\"records\",\n",
    "    indent=2,\n",
    "    force_ascii=False\n",
    ")\n",
    "\n",
    "print(\"\\n✅ Relatório salvo em: data/quality/relatorio_qualidade.json\")\n",
    "qualidade"
   ]
  }
 ],
 "metadata": {
  "kernelspec": {
   "display_name": "Python 3 (ipykernel)",
   "language": "python",
   "name": "python3"
  },
  "language_info": {
   "codemirror_mode": {
    "name": "ipython",
    "version": 3
   },
   "file_extension": ".py",
   "mimetype": "text/x-python",
   "name": "python",
   "nbconvert_exporter": "python",
   "pygments_lexer": "ipython3",
   "version": "3.11.7"
  }
 },
 "nbformat": 4,
 "nbformat_minor": 5
}
